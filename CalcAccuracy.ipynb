{
  "nbformat": 4,
  "nbformat_minor": 0,
  "metadata": {
    "colab": {
      "provenance": []
    },
    "kernelspec": {
      "name": "python3",
      "display_name": "Python 3"
    },
    "language_info": {
      "name": "python"
    }
  },
  "cells": [
    {
      "cell_type": "code",
      "execution_count": null,
      "metadata": {
        "id": "syERCIC0OAnY"
      },
      "outputs": [],
      "source": [
        "import gspread\n",
        "from google.auth import default\n",
        "from google.colab import auth\n",
        "\n",
        "# Authenticate and authorize access to Google Sheets\n",
        "auth.authenticate_user()\n",
        "creds, _ = default()\n",
        "gc = gspread.authorize(creds)\n",
        "\n",
        "# Open the spreadsheet and select the worksheet\n",
        "spreadsheet_id = '1fZwXtdgPClD43DjP4Rn2Th_bw76RU8HB6tV67oQcLxI'\n",
        "worksheet_name = 'nikkei_headlines.csv'  # Replace with the actual sheet name\n",
        "worksheet = gc.open_by_key(spreadsheet_id).worksheet(worksheet_name)\n",
        "\n",
        "# Iterate through the results and update the spreadsheet\n",
        "row_index = 1  # Start from row 1 (the first row)"
      ]
    },
    {
      "cell_type": "code",
      "source": [
        "column_d_values = worksheet.col_values(4)  # 3 represents column C\n",
        "\n",
        "# Get the movement data from column I\n",
        "column_i_values = worksheet.col_values(9)  # 9 represents column I"
      ],
      "metadata": {
        "id": "QSZQd2OgQtvk"
      },
      "execution_count": null,
      "outputs": []
    },
    {
      "cell_type": "code",
      "source": [
        "# print(column_d_values)"
      ],
      "metadata": {
        "id": "wxqzVnGnRKAo"
      },
      "execution_count": null,
      "outputs": []
    },
    {
      "cell_type": "code",
      "source": [
        "from collections import Counter\n",
        "counts = Counter(column_d_values)\n",
        "print(counts)"
      ],
      "metadata": {
        "id": "GMynch5JRNki",
        "colab": {
          "base_uri": "https://localhost:8080/"
        },
        "outputId": "67624107-2866-4750-fe26-8ec22c4eb483"
      },
      "execution_count": null,
      "outputs": [
        {
          "output_type": "stream",
          "name": "stdout",
          "text": [
            "Counter({'': 26304, 'Neutral': 2204, 'Negative': 488, 'Positive': 327})\n"
          ]
        }
      ]
    },
    {
      "cell_type": "code",
      "source": [
        "488 + 327"
      ],
      "metadata": {
        "colab": {
          "base_uri": "https://localhost:8080/"
        },
        "id": "ZQJ-fIBJrI84",
        "outputId": "a16a4e2e-8dd6-4a1c-a397-9b40238b46a5"
      },
      "execution_count": null,
      "outputs": [
        {
          "output_type": "execute_result",
          "data": {
            "text/plain": [
              "815"
            ]
          },
          "metadata": {},
          "execution_count": 4
        }
      ]
    },
    {
      "cell_type": "code",
      "source": [
        "# Calculate accuracy\n",
        "correct_predictions = 0\n",
        "label_movement_counts = Counter()  # Initialize a counter for the mixture table\n",
        "\n",
        "for label, movement in zip(column_d_values, column_i_values):\n",
        "  if label in ['Positive', 'Negative']:\n",
        "  # if label in ['Positive', 'Negative'] and movement in ['Up', 'Down']:\n",
        "    label_movement_counts[(label, movement)] += 1\n",
        "    if (label == 'Positive' and movement == 'Up') or (label == 'Negative' and movement == 'Down'):\n",
        "      correct_predictions += 1\n",
        "\n",
        "print(label_movement_counts)\n",
        "# total_predictions = len(column_d_values)\n",
        "total_predictions = sum(label_movement_counts.values())  # Count only valid predictions\n",
        "accuracy = correct_predictions / total_predictions\n",
        "\n",
        "print(f\"Total Predictions: {total_predictions}\")\n",
        "print(f\"Accuracy: {accuracy * 100:.2f}%\")\n",
        "\n",
        "# Print the mixture table\n",
        "print(\"\\nLabel - Movement Mixture Table:\")\n",
        "for (label, movement), count in label_movement_counts.items():\n",
        "  print(f\"{label} - {movement}: {count}\")\n",
        "\n",
        "# 'Negative', ''): 261, ('Positive', ''): 178"
      ],
      "metadata": {
        "colab": {
          "base_uri": "https://localhost:8080/"
        },
        "id": "lw1g77rroeyF",
        "outputId": "2c9446c1-e0e4-4d55-b981-bdff89c16aa6"
      },
      "execution_count": null,
      "outputs": [
        {
          "output_type": "stream",
          "name": "stdout",
          "text": [
            "Counter({('Negative', 'Down'): 244, ('Negative', 'Up'): 208, ('Positive', 'Down'): 157, ('Positive', 'Up'): 147, ('Negative', 'trading holiday'): 27, ('Positive', 'trading holiday'): 20, ('Negative', ''): 9, ('Positive', ''): 3})\n",
            "Total Predictions: 815\n",
            "Accuracy: 47.98%\n",
            "\n",
            "Label - Movement Mixture Table:\n",
            "Positive - Down: 157\n",
            "Negative - Up: 208\n",
            "Negative - Down: 244\n",
            "Positive - Up: 147\n",
            "Negative - trading holiday: 27\n",
            "Positive - trading holiday: 20\n",
            "Negative - : 9\n",
            "Positive - : 3\n"
          ]
        }
      ]
    },
    {
      "cell_type": "code",
      "source": [
        "# Print the mixture table in a 2x2 format\n",
        "print(\"\\nLabel - Movement Mixture Table:\")\n",
        "table_data = [[label_movement_counts[('Positive', 'Up')], label_movement_counts[('Positive', 'Down')]],\n",
        "              [label_movement_counts[('Negative', 'Up')], label_movement_counts[('Negative', 'Down')]]]\n",
        "\n",
        "row_labels = [\"Positive\", \"Negative\"]\n",
        "col_labels = [\"Up\", \"Down\"]\n",
        "\n",
        "# Print the table with formatting\n",
        "print(\"          \" + \" \".join(col_labels))\n",
        "for row_label, row in zip(row_labels, table_data):\n",
        "  row_str = row_label + \": \"\n",
        "  for count in row:\n",
        "    row_str += str(count).rjust(len(col_labels[0])) + \" \"\n",
        "  print(row_str)"
      ],
      "metadata": {
        "colab": {
          "base_uri": "https://localhost:8080/"
        },
        "id": "NrC3gtG3qfKj",
        "outputId": "dfef8699-0ced-49f1-d1b3-468271e1bb6a"
      },
      "execution_count": null,
      "outputs": [
        {
          "output_type": "stream",
          "name": "stdout",
          "text": [
            "\n",
            "Label - Movement Mixture Table:\n",
            "          Up Down\n",
            "Positive: 147 157 \n",
            "Negative: 208 244 \n"
          ]
        }
      ]
    }
  ]
}